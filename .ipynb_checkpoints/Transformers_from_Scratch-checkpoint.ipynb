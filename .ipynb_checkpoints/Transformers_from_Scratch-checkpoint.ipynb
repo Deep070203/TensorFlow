{
 "cells": [
  {
   "cell_type": "markdown",
   "id": "6979719b-9a66-4e13-bf9d-1ef1b3040694",
   "metadata": {},
   "source": [
    "# Transformers from Scratch"
   ]
  },
  {
   "cell_type": "markdown",
   "id": "ab5eba0b-246b-43bf-81d9-71737fe08ab0",
   "metadata": {},
   "source": [
    "Transformer [Attention Mechanism]: Encoder and Decoder. Main function is for sequence to sequence modeling [sequence is an ordered set of tokens]\n",
    "\n",
    "Encoder [Goal of Attention]: Generate vectors of high quality\n",
    "\n",
    "    Step 1: Positional Encoding of the inputs (one hot encoding of the words). We will get vectors of size 512 dimensions\n",
    "    Step 2: Passed into Encoder: It is going to generate another set of vectors. Through the attention mechanism (Multi-Head Attention and Add and Norm, Layer Normalisation), vectors are going to be much more context aware and hence higher quality.\n",
    "\n",
    "Attention in Transformers:\n",
    "    Scaled Dot-Product Attention and Multi-Head Attention\n",
    "    \n",
    "    Each word input to the transformer will have three vectors:\n",
    "        \n",
    "        Query Vector: What am I looking for [sequence length x d(k)]\n",
    "        \n",
    "        Key Vector: What can I offer\n",
    "        \n",
    "        Value vector: What I actually offer"
   ]
  },
  {
   "cell_type": "code",
   "execution_count": 64,
   "id": "3f0ba0b9-38fd-4a90-a376-27b9a0f652e0",
   "metadata": {},
   "outputs": [],
   "source": [
    "import numpy as np\n",
    "import torch\n",
    "import torch.nn as nn\n",
    "import torch.nn.functional as F"
   ]
  },
  {
   "cell_type": "code",
   "execution_count": null,
   "id": "a2e7337d-f9e4-456e-82b5-e65833c83fe6",
   "metadata": {},
   "outputs": [],
   "source": []
  }
 ],
 "metadata": {
  "kernelspec": {
   "display_name": "Python 3 (ipykernel)",
   "language": "python",
   "name": "python3"
  },
  "language_info": {
   "codemirror_mode": {
    "name": "ipython",
    "version": 3
   },
   "file_extension": ".py",
   "mimetype": "text/x-python",
   "name": "python",
   "nbconvert_exporter": "python",
   "pygments_lexer": "ipython3",
   "version": "3.12.4"
  }
 },
 "nbformat": 4,
 "nbformat_minor": 5
}
