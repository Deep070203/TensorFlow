{
 "cells": [
  {
   "cell_type": "markdown",
   "id": "4b7fcb62-b80e-41c7-a7ab-5608f7241d0f",
   "metadata": {},
   "source": [
    "# Multi-Head Attention Mechanism"
   ]
  },
  {
   "cell_type": "markdown",
   "id": "d7c0333c-01f9-4731-9c5e-06a79830a7c9",
   "metadata": {},
   "source": [
    "Take a word. It is converted into a 512 dimension vector. Then, it is broken down into three vectors q, k, v (512 x 1). Each of these vectors are also broken up into separate pieces. \n",
    "\n",
    "Each piece is going to be a part to make an attention head. They are fed into an attention unit. Then, we generate an attention matrix which is a sequence by sequence length.\n",
    "\n",
    "It is a probability distribution so the rows add up to one. \n",
    "\n",
    "Each head will have its own matrix.\n",
    "\n",
    "This will then generate other output vectors that are concatenated to generate a vector with good contextual awareness."
   ]
  },
  {
   "cell_type": "code",
   "execution_count": 1,
   "id": "dc56d0af-fc70-4963-aa3e-e6801797e148",
   "metadata": {},
   "outputs": [],
   "source": [
    "import numpy as np\n",
    "import torch\n",
    "import torch.nn as nn\n",
    "import torch.nn.functional as F"
   ]
  },
  {
   "cell_type": "code",
   "execution_count": 2,
   "id": "fd256b7a-4195-4785-a9ea-b1d3fea6d089",
   "metadata": {},
   "outputs": [],
   "source": [
    "sequence_length = 4 # len of my inp sentence\n",
    "batch_size = 1 # help in parallel processing\n",
    "input_dim = 512 # vec dim of every word that goes into the attention unit \n",
    "d_model = 512 # the output of the attention unit\n",
    "x = torch.randn( (batch_size, sequence_length, input_dim) ) # randomly sampled input"
   ]
  },
  {
   "cell_type": "code",
   "execution_count": 3,
   "id": "3967a388-05d9-451f-b6d6-69317d8152d8",
   "metadata": {},
   "outputs": [
    {
     "data": {
      "text/plain": [
       "torch.Size([1, 4, 512])"
      ]
     },
     "execution_count": 3,
     "metadata": {},
     "output_type": "execute_result"
    }
   ],
   "source": [
    "x.size()"
   ]
  },
  {
   "cell_type": "code",
   "execution_count": 4,
   "id": "0de360c0-dbca-41a3-b97a-abf72d837579",
   "metadata": {},
   "outputs": [],
   "source": [
    "qkv_layer = nn.Linear(input_dim, 3 * d_model) # create query, key and value vector"
   ]
  },
  {
   "cell_type": "code",
   "execution_count": 5,
   "id": "19ad1e9d-2dbc-4ff7-a0f5-1cc129837d35",
   "metadata": {},
   "outputs": [
    {
     "data": {
      "text/plain": [
       "torch.Size([1, 4, 1536])"
      ]
     },
     "execution_count": 5,
     "metadata": {},
     "output_type": "execute_result"
    }
   ],
   "source": [
    "qkv = qkv_layer(x) # Generate qkv vector\n",
    "qkv.shape # 1 batch, 4 words, each word vec is 1536 in size"
   ]
  },
  {
   "cell_type": "code",
   "execution_count": 6,
   "id": "b4ad1f00-1ac1-4fe5-bf1a-c9051318a0fe",
   "metadata": {},
   "outputs": [
    {
     "data": {
      "text/plain": [
       "Text(0.5, 1.0, 'qkv distribution')"
      ]
     },
     "execution_count": 6,
     "metadata": {},
     "output_type": "execute_result"
    },
    {
     "data": {
      "image/png": "[encoded data removed]",
      "text/plain": [
       "<Figure size 640x480 with 1 Axes>"
      ]
     },
     "metadata": {},
     "output_type": "display_data"
    }
   ],
   "source": [
    "import matplotlib.pyplot as plt\n",
    "y_val = torch.histc(qkv, bins=200, min=-3, max=3)\n",
    "x_val = np.arange(-1, 1, 0.01) * 3\n",
    "plt.bar(x_val, y_val, align='center', color=['forestgreen'])\n",
    "plt.title('qkv distribution')"
   ]
  },
  {
   "cell_type": "code",
   "execution_count": 7,
   "id": "58921064-8152-4ae1-94cc-effaee4ee4a7",
   "metadata": {},
   "outputs": [
    {
     "data": {
      "text/plain": [
       "torch.Size([1, 4, 8, 192])"
      ]
     },
     "execution_count": 7,
     "metadata": {},
     "output_type": "execute_result"
    }
   ],
   "source": [
    "# considering 8 attention heads\n",
    "num_heads = 8\n",
    "head_dim = d_model // num_heads # 512/8 = 64\n",
    "qkv = qkv.reshape(batch_size, sequence_length, num_heads, 3 * head_dim)\n",
    "qkv.shape"
   ]
  },
  {
   "cell_type": "code",
   "execution_count": 8,
   "id": "68a2d0cb-f3cd-4553-b421-2bdeb9c6ef94",
   "metadata": {},
   "outputs": [
    {
     "data": {
      "text/plain": [
       "torch.Size([1, 8, 4, 192])"
      ]
     },
     "execution_count": 8,
     "metadata": {},
     "output_type": "execute_result"
    }
   ],
   "source": [
    "qkv = qkv.permute(0, 2, 1, 3) # [batch_size, num_heads, sequence_length, 3 * head_dim]\n",
    "qkv.shape"
   ]
  },
  {
   "cell_type": "code",
   "execution_count": 9,
   "id": "cb9ddfbe-e2cf-44f3-823c-e573d263675e",
   "metadata": {},
   "outputs": [
    {
     "data": {
      "text/plain": [
       "(torch.Size([1, 8, 4, 64]),\n",
       " torch.Size([1, 8, 4, 64]),\n",
       " torch.Size([1, 8, 4, 64]))"
      ]
     },
     "execution_count": 9,
     "metadata": {},
     "output_type": "execute_result"
    }
   ],
   "source": [
    "q, k, v = qkv.chunk(3, -1) # breakdown by last dim\n",
    "q.shape, k.shape, v.shape"
   ]
  },
  {
   "cell_type": "markdown",
   "id": "063e5268-911c-45db-ac74-51afe8b5a456",
   "metadata": {},
   "source": [
    "## Self Attention for multiple heads"
   ]
  },
  {
   "cell_type": "code",
   "execution_count": 11,
   "id": "17783d49-385f-4d71-bec5-77e1029c220d",
   "metadata": {},
   "outputs": [
    {
     "data": {
      "text/plain": [
       "torch.Size([1, 8, 4, 4])"
      ]
     },
     "execution_count": 11,
     "metadata": {},
     "output_type": "execute_result"
    }
   ],
   "source": [
    "import math\n",
    "d_k = q.size()[-1]\n",
    "scaled = torch.matmul(q, k.transpose(-2, -1)) / math.sqrt(d_k) # tensors are 4 dim and not 2 dim matrix so use transpose and not .T along with the dimensions\n",
    "scaled.shape"
   ]
  },
  {
   "cell_type": "code",
   "execution_count": 12,
   "id": "422a7d1a-8f30-431e-98f2-b13e6ff24e04",
   "metadata": {},
   "outputs": [
    {
     "name": "stderr",
     "output_type": "stream",
     "text": [
      "/var/folders/t3/kt2c35md3j94j140w02n_3mh0000gn/T/ipykernel_44830/3717780648.py:1: UserWarning: The use of `x.T` on tensors of dimension other than 2 to reverse their shape is deprecated and it will throw an error in a future release. Consider `x.mT` to transpose batches of matrices or `x.permute(*torch.arange(x.ndim - 1, -1, -1))` to reverse the dimensions of a tensor. (Triggered internally at /Users/runner/work/pytorch/pytorch/pytorch/aten/src/ATen/native/TensorShape.cpp:3679.)\n",
      "  k.T.shape\n"
     ]
    },
    {
     "data": {
      "text/plain": [
       "torch.Size([64, 4, 8, 1])"
      ]
     },
     "execution_count": 12,
     "metadata": {},
     "output_type": "execute_result"
    }
   ],
   "source": [
    "k.T.shape"
   ]
  },
  {
   "cell_type": "code",
   "execution_count": 15,
   "id": "df26a911-07b6-4fcd-8cca-1a8521de9be1",
   "metadata": {},
   "outputs": [
    {
     "data": {
      "text/plain": [
       "tensor([[-0.1566,  0.6085],\n",
       "        [-1.0309, -0.1749],\n",
       "        [-0.2262, -0.3663]])"
      ]
     },
     "execution_count": 15,
     "metadata": {},
     "output_type": "execute_result"
    }
   ],
   "source": [
    "# Dummy example\n",
    "y = torch.randn(2,3)\n",
    "torch.transpose(y, 0, 1)"
   ]
  },
  {
   "cell_type": "code",
   "execution_count": 16,
   "id": "e6c9658b-f7fa-4bd4-b04b-b4766e86ad2c",
   "metadata": {},
   "outputs": [
    {
     "data": {
      "text/plain": [
       "tensor([[-0.1566,  0.6085],\n",
       "        [-1.0309, -0.1749],\n",
       "        [-0.2262, -0.3663]])"
      ]
     },
     "execution_count": 16,
     "metadata": {},
     "output_type": "execute_result"
    }
   ],
   "source": [
    "torch.transpose(y, 1, 0)"
   ]
  },
  {
   "cell_type": "code",
   "execution_count": 17,
   "id": "5c49cfe5-af0c-42dd-b593-5e53cfddf411",
   "metadata": {},
   "outputs": [
    {
     "data": {
      "text/plain": [
       "tensor([[0., -inf, -inf, -inf],\n",
       "        [0., 0., -inf, -inf],\n",
       "        [0., 0., 0., -inf],\n",
       "        [0., 0., 0., 0.]])"
      ]
     },
     "execution_count": 17,
     "metadata": {},
     "output_type": "execute_result"
    }
   ],
   "source": [
    "# Masking\n",
    "mask = torch.full(scaled.size(), float('-inf')) # fill up with -inf values\n",
    "mask = torch.triu(mask, diagonal = 1) # triangular matrix\n",
    "mask[0][1] # mask for input to a single head"
   ]
  },
  {
   "cell_type": "code",
   "execution_count": 18,
   "id": "d94a9815-dcba-4cd4-9230-edc82d7c98fb",
   "metadata": {},
   "outputs": [
    {
     "data": {
      "text/plain": [
       "tensor([[-0.0604,    -inf,    -inf,    -inf],\n",
       "        [ 0.1489, -0.0555,    -inf,    -inf],\n",
       "        [ 0.2574, -0.0524,  0.3627,    -inf],\n",
       "        [-0.1770,  0.0963, -0.0573, -0.1505]], grad_fn=<SelectBackward0>)"
      ]
     },
     "execution_count": 18,
     "metadata": {},
     "output_type": "execute_result"
    }
   ],
   "source": [
    "(scaled + mask)[0][0]"
   ]
  },
  {
   "cell_type": "code",
   "execution_count": 19,
   "id": "c41d0ff7-b671-4ae6-918f-bcb16eb16149",
   "metadata": {},
   "outputs": [],
   "source": [
    "scaled += mask"
   ]
  },
  {
   "cell_type": "code",
   "execution_count": 20,
   "id": "37c63726-0d1b-4551-b8aa-ab07b3d1ed74",
   "metadata": {},
   "outputs": [
    {
     "data": {
      "text/plain": [
       "0.42657718941306677"
      ]
     },
     "execution_count": 20,
     "metadata": {},
     "output_type": "execute_result"
    }
   ],
   "source": [
    "# example\n",
    "np.exp(-0.3121) / (np.exp(-0.3121) + np.exp(-0.01627))"
   ]
  },
  {
   "cell_type": "code",
   "execution_count": 21,
   "id": "9bd2d183-df14-4840-8e74-083a5c85d3f5",
   "metadata": {},
   "outputs": [],
   "source": [
    "attention = F.softmax(scaled, dim=-1)"
   ]
  },
  {
   "cell_type": "code",
   "execution_count": 22,
   "id": "99e61497-b53b-4903-b0f2-1a3d90853f7a",
   "metadata": {},
   "outputs": [
    {
     "data": {
      "text/plain": [
       "torch.Size([1, 8, 4, 4])"
      ]
     },
     "execution_count": 22,
     "metadata": {},
     "output_type": "execute_result"
    }
   ],
   "source": [
    "attention.shape"
   ]
  },
  {
   "cell_type": "code",
   "execution_count": 23,
   "id": "09989425-dd65-433e-9081-f3f1d3313fa1",
   "metadata": {},
   "outputs": [
    {
     "data": {
      "text/plain": [
       "tensor([[1.0000, 0.0000, 0.0000, 0.0000],\n",
       "        [0.5509, 0.4491, 0.0000, 0.0000],\n",
       "        [0.3515, 0.2579, 0.3906, 0.0000],\n",
       "        [0.2238, 0.2942, 0.2523, 0.2298]], grad_fn=<SelectBackward0>)"
      ]
     },
     "execution_count": 23,
     "metadata": {},
     "output_type": "execute_result"
    }
   ],
   "source": [
    "attention[0][0]"
   ]
  },
  {
   "cell_type": "code",
   "execution_count": 24,
   "id": "8424414f-1642-40e1-ac62-304af8259907",
   "metadata": {},
   "outputs": [
    {
     "data": {
      "text/plain": [
       "torch.Size([1, 8, 4, 64])"
      ]
     },
     "execution_count": 24,
     "metadata": {},
     "output_type": "execute_result"
    }
   ],
   "source": [
    "values = torch.matmul(attention, v)\n",
    "values.shape"
   ]
  },
  {
   "cell_type": "code",
   "execution_count": 25,
   "id": "c7267aa5-1d4f-4cc8-addd-be7d8712ae45",
   "metadata": {},
   "outputs": [],
   "source": [
    "# Function\n",
    "import math\n",
    "\n",
    "def scaled_dot_product(q, k, v, mask=None):\n",
    "    d_k = q.size()[-1]\n",
    "    scaled = torch.matmul(q, k.transpose(-1, -2)) / math.sqrt(d_k)\n",
    "    if mask is not None:\n",
    "        scaled += mask\n",
    "    attention = F.softmax(scaled, dim=-1)\n",
    "    values = torch.matmul(attention, v)\n",
    "    return values, attention"
   ]
  },
  {
   "cell_type": "code",
   "execution_count": 26,
   "id": "bdd3df4d-a48c-4bd2-98f8-b169bc904f32",
   "metadata": {},
   "outputs": [],
   "source": [
    "values, attention = scaled_dot_product(q, k, v, mask=mask)"
   ]
  },
  {
   "cell_type": "code",
   "execution_count": 27,
   "id": "0a874a37-194c-4c6d-a800-8a0ab8a16040",
   "metadata": {},
   "outputs": [
    {
     "data": {
      "text/plain": [
       "tensor([[1.0000, 0.0000, 0.0000, 0.0000],\n",
       "        [0.5509, 0.4491, 0.0000, 0.0000],\n",
       "        [0.3515, 0.2579, 0.3906, 0.0000],\n",
       "        [0.2238, 0.2942, 0.2523, 0.2298]], grad_fn=<SelectBackward0>)"
      ]
     },
     "execution_count": 27,
     "metadata": {},
     "output_type": "execute_result"
    }
   ],
   "source": [
    "# attention.shape\n",
    "attention[0][0]"
   ]
  },
  {
   "cell_type": "code",
   "execution_count": 28,
   "id": "4778a6c6-5c4d-46aa-bfd4-438510e2dd55",
   "metadata": {},
   "outputs": [
    {
     "data": {
      "text/plain": [
       "torch.Size([1, 8, 4, 64])"
      ]
     },
     "execution_count": 28,
     "metadata": {},
     "output_type": "execute_result"
    }
   ],
   "source": [
    "values.size()"
   ]
  },
  {
   "cell_type": "code",
   "execution_count": 29,
   "id": "685b50a6-1ef5-4892-932f-e741f3d33b0a",
   "metadata": {},
   "outputs": [
    {
     "data": {
      "text/plain": [
       "torch.Size([1, 4, 512])"
      ]
     },
     "execution_count": 29,
     "metadata": {},
     "output_type": "execute_result"
    }
   ],
   "source": [
    "values = values.reshape(batch_size, sequence_length, num_heads * head_dim)\n",
    "values.size()"
   ]
  },
  {
   "cell_type": "code",
   "execution_count": 30,
   "id": "aa0db029-43f1-4e00-b464-4c138d334699",
   "metadata": {},
   "outputs": [],
   "source": [
    "# Feed Forward Linear layer 512 x 512\n",
    "linear_layer = nn.Linear(d_model, d_model)"
   ]
  },
  {
   "cell_type": "code",
   "execution_count": 31,
   "id": "ae1ba53b-78b1-4d2e-ad64-cebcb53d30e0",
   "metadata": {},
   "outputs": [
    {
     "data": {
      "text/plain": [
       "torch.Size([1, 4, 512])"
      ]
     },
     "execution_count": 31,
     "metadata": {},
     "output_type": "execute_result"
    }
   ],
   "source": [
    "out = linear_layer(values)\n",
    "out.shape"
   ]
  },
  {
   "cell_type": "markdown",
   "id": "444efce1-61c9-4113-a227-d845634eed77",
   "metadata": {},
   "source": [
    "### Multi-Headed Attention class"
   ]
  },
  {
   "cell_type": "code",
   "execution_count": 32,
   "id": "ffcf5e44-ecd4-4219-858b-921f17099fe6",
   "metadata": {},
   "outputs": [],
   "source": [
    "import torch\n",
    "import torch.nn as nn\n",
    "import math\n",
    "\n",
    "def scaled_dot_product(q, k, v, mask=None):\n",
    "    d_k = q.size()[-1]\n",
    "    scaled = torch.matmul(q, k.transpose(-1, -2)) / math.sqrt(d_k)\n",
    "    if mask is not None:\n",
    "        scaled += mask\n",
    "    attention = F.softmax(scaled, dim=-1)\n",
    "    values = torch.matmul(attention, v)\n",
    "    return values, attention\n",
    "\n",
    "# take in a constructor to initialize parameters\n",
    "# Also a forward path\n",
    "class MultiheadAttention(nn.Module):\n",
    "\n",
    "    def __init__(self, input_dim, d_model, num_heads):\n",
    "        super().__init__()\n",
    "        self.input_dim = input_dim\n",
    "        self.d_model = d_model\n",
    "        self.num_heads = num_heads\n",
    "        self.head_dim = d_model // num_heads\n",
    "        self.qkv_layer = nn.Linear(input_dim , 3 * d_model)\n",
    "        self.linear_layer = nn.Linear(d_model, d_model)\n",
    "    \n",
    "    def forward(self, x, mask=None):\n",
    "        batch_size, sequence_length, input_dim = x.size()\n",
    "        print(f\"x.size(): {x.size()}\")\n",
    "        qkv = self.qkv_layer(x)\n",
    "        print(f\"qkv.size(): {qkv.size()}\")\n",
    "        qkv = qkv.reshape(batch_size, sequence_length, self.num_heads, 3 * self.head_dim)\n",
    "        print(f\"qkv.size(): {qkv.size()}\")\n",
    "        qkv = qkv.permute(0, 2, 1, 3)\n",
    "        print(f\"qkv.size(): {qkv.size()}\")\n",
    "        q, k, v = qkv.chunk(3, dim=-1)\n",
    "        print(f\"q size: {q.size()}, k size: {k.size()}, v size: {v.size()}, \")\n",
    "        values, attention = scaled_dot_product(q, k, v, mask)\n",
    "        print(f\"values.size(): {values.size()}, attention.size:{ attention.size()} \")\n",
    "        values = values.reshape(batch_size, sequence_length, self.num_heads * self.head_dim)\n",
    "        print(f\"values.size(): {values.size()}\")\n",
    "        out = self.linear_layer(values)\n",
    "        print(f\"out.size(): {out.size()}\")\n",
    "        return out"
   ]
  }
 ],
 "metadata": {
  "kernelspec": {
   "display_name": "Python 3 (ipykernel)",
   "language": "python",
   "name": "python3"
  },
  "language_info": {
   "codemirror_mode": {
    "name": "ipython",
    "version": 3
   },
   "file_extension": ".py",
   "mimetype": "text/x-python",
   "name": "python",
   "nbconvert_exporter": "python",
   "pygments_lexer": "ipython3",
   "version": "3.12.4"
  }
 },
 "nbformat": 4,
 "nbformat_minor": 5
}
